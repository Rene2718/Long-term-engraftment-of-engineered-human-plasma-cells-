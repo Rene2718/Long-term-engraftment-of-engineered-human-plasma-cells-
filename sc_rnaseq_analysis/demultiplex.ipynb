{
 "cells": [
  {
   "cell_type": "code",
   "execution_count": 48,
   "id": "1882e54e",
   "metadata": {},
   "outputs": [],
   "source": [
    "from solo import hashsolo\n",
    "import anndata\n",
    "import scanpy as sc\n",
    "\n",
    "\n"
   ]
  },
  {
   "cell_type": "code",
   "execution_count": 10,
   "id": "c7123b77",
   "metadata": {},
   "outputs": [],
   "source": [
    "import tkinter\n",
    "import matplotlib\n",
    "import matplotlib.pyplot as plt\n"
   ]
  },
  {
   "cell_type": "code",
   "execution_count": 75,
   "id": "abcd656b",
   "metadata": {},
   "outputs": [
    {
     "name": "stderr",
     "output_type": "stream",
     "text": [
      "Variable names are not unique. To make them unique, call `.var_names_make_unique`.\n"
     ]
    },
    {
     "data": {
      "text/plain": [
       "AnnData object with n_obs × n_vars = 7226 × 36698\n",
       "    var: 'gene_ids', 'feature_types', 'genome'"
      ]
     },
     "execution_count": 75,
     "metadata": {},
     "output_type": "execute_result"
    }
   ],
   "source": [
    "exp97=sc.read_10x_h5('filtered_feature_bc_matrix.h5',gex_only=False)\n",
    "exp97"
   ]
  },
  {
   "cell_type": "code",
   "execution_count": 76,
   "id": "9c0f97bb",
   "metadata": {},
   "outputs": [],
   "source": [
    "exp97.var_names_make_unique()"
   ]
  },
  {
   "cell_type": "code",
   "execution_count": 77,
   "id": "77c32b45",
   "metadata": {},
   "outputs": [
    {
     "data": {
      "text/plain": [
       "AnnData object with n_obs × n_vars = 7226 × 36698\n",
       "    var: 'gene_ids', 'feature_types', 'genome'"
      ]
     },
     "execution_count": 77,
     "metadata": {},
     "output_type": "execute_result"
    }
   ],
   "source": [
    "exp97"
   ]
  },
  {
   "cell_type": "code",
   "execution_count": 58,
   "id": "176f7ceb",
   "metadata": {},
   "outputs": [],
   "source": [
    "hto=exp97[:,exp97.var_names.str.startswith('HTO')].copy()\n",
    "# protein = exp97[:, ((exp97.var[\"feature_types\"] == \"Antibody Capture\"))].copy()\n"
   ]
  },
  {
   "cell_type": "code",
   "execution_count": 78,
   "id": "e40fc0a9",
   "metadata": {},
   "outputs": [
    {
     "data": {
      "text/plain": [
       "AnnData object with n_obs × n_vars = 7226 × 4\n",
       "    obs: 'most_likely_hypothesis', 'cluster_feature', 'negative_hypothesis_probability', 'singlet_hypothesis_probability', 'doublet_hypothesis_probability', 'Classification', 'log_counts'\n",
       "    var: 'gene_ids', 'feature_types', 'genome'"
      ]
     },
     "execution_count": 78,
     "metadata": {},
     "output_type": "execute_result"
    }
   ],
   "source": [
    "hto"
   ]
  },
  {
   "cell_type": "code",
   "execution_count": 60,
   "id": "2b717131",
   "metadata": {},
   "outputs": [],
   "source": [
    "hashsolo.hashsolo(hto)"
   ]
  },
  {
   "cell_type": "code",
   "execution_count": 61,
   "id": "25fb3526",
   "metadata": {},
   "outputs": [
    {
     "name": "stderr",
     "output_type": "stream",
     "text": [
      "/Users/ycheng/opt/anaconda3/envs/solo/lib/python3.7/site-packages/solo/hashsolo.py:462: RuntimeWarning: divide by zero encountered in log\n",
      "  np.sum(cell_hashing_adata.X, axis=1)\n",
      "/Users/ycheng/opt/anaconda3/envs/solo/lib/python3.7/site-packages/solo/hashsolo.py:516: UserWarning: Matplotlib is currently using agg, which is a non-GUI backend, so cannot show the figure.\n",
      "  plt.show()\n",
      "/Users/ycheng/opt/anaconda3/lib/python3.7/site-packages/ipykernel_launcher.py:3: UserWarning: Matplotlib is currently using agg, which is a non-GUI backend, so cannot show the figure.\n",
      "  This is separate from the ipykernel package so we can avoid doing imports until\n"
     ]
    }
   ],
   "source": [
    "# %matplotlib inline\n",
    "hashsolo.plot_qc_checks_cell_hashing(hto)\n",
    "plt.show()"
   ]
  },
  {
   "cell_type": "code",
   "execution_count": 63,
   "id": "afeb00be",
   "metadata": {},
   "outputs": [
    {
     "data": {
      "text/plain": [
       "6648"
      ]
     },
     "execution_count": 63,
     "metadata": {},
     "output_type": "execute_result"
    }
   ],
   "source": [
    "len(hto[hto.obs['most_likely_hypothesis']==1])"
   ]
  },
  {
   "cell_type": "code",
   "execution_count": 72,
   "id": "b460d956",
   "metadata": {},
   "outputs": [
    {
     "data": {
      "text/plain": [
       "1551"
      ]
     },
     "execution_count": 72,
     "metadata": {},
     "output_type": "execute_result"
    }
   ],
   "source": [
    "len(hto[hto.obs['Classification']=='HTO4'])"
   ]
  },
  {
   "cell_type": "code",
   "execution_count": 68,
   "id": "b228dbd9",
   "metadata": {},
   "outputs": [
    {
     "data": {
      "text/html": [
       "<div>\n",
       "<style scoped>\n",
       "    .dataframe tbody tr th:only-of-type {\n",
       "        vertical-align: middle;\n",
       "    }\n",
       "\n",
       "    .dataframe tbody tr th {\n",
       "        vertical-align: top;\n",
       "    }\n",
       "\n",
       "    .dataframe thead th {\n",
       "        text-align: right;\n",
       "    }\n",
       "</style>\n",
       "<table border=\"1\" class=\"dataframe\">\n",
       "  <thead>\n",
       "    <tr style=\"text-align: right;\">\n",
       "      <th></th>\n",
       "      <th>most_likely_hypothesis</th>\n",
       "      <th>cluster_feature</th>\n",
       "      <th>negative_hypothesis_probability</th>\n",
       "      <th>singlet_hypothesis_probability</th>\n",
       "      <th>doublet_hypothesis_probability</th>\n",
       "      <th>Classification</th>\n",
       "      <th>log_counts</th>\n",
       "    </tr>\n",
       "  </thead>\n",
       "  <tbody>\n",
       "    <tr>\n",
       "      <th>AAACCCAAGCTTGTGT-1</th>\n",
       "      <td>1</td>\n",
       "      <td>0</td>\n",
       "      <td>2.219113e-17</td>\n",
       "      <td>1.0</td>\n",
       "      <td>1.053405e-10</td>\n",
       "      <td>HTO1</td>\n",
       "      <td>7.646832</td>\n",
       "    </tr>\n",
       "    <tr>\n",
       "      <th>AAACCCAAGGCCTGCT-1</th>\n",
       "      <td>1</td>\n",
       "      <td>0</td>\n",
       "      <td>4.573743e-12</td>\n",
       "      <td>1.0</td>\n",
       "      <td>1.351712e-11</td>\n",
       "      <td>HTO1</td>\n",
       "      <td>7.032624</td>\n",
       "    </tr>\n",
       "    <tr>\n",
       "      <th>AAACCCACAAAGGGTC-1</th>\n",
       "      <td>1</td>\n",
       "      <td>0</td>\n",
       "      <td>5.065203e-16</td>\n",
       "      <td>1.0</td>\n",
       "      <td>4.369904e-11</td>\n",
       "      <td>HTO4</td>\n",
       "      <td>6.884487</td>\n",
       "    </tr>\n",
       "    <tr>\n",
       "      <th>AAACCCAGTCCCACGA-1</th>\n",
       "      <td>1</td>\n",
       "      <td>0</td>\n",
       "      <td>2.993525e-16</td>\n",
       "      <td>1.0</td>\n",
       "      <td>5.321506e-09</td>\n",
       "      <td>HTO1</td>\n",
       "      <td>8.045588</td>\n",
       "    </tr>\n",
       "    <tr>\n",
       "      <th>AAACCCATCAGTCATG-1</th>\n",
       "      <td>1</td>\n",
       "      <td>0</td>\n",
       "      <td>3.267715e-14</td>\n",
       "      <td>1.0</td>\n",
       "      <td>5.790054e-10</td>\n",
       "      <td>HTO4</td>\n",
       "      <td>9.087042</td>\n",
       "    </tr>\n",
       "  </tbody>\n",
       "</table>\n",
       "</div>"
      ],
      "text/plain": [
       "                    most_likely_hypothesis  cluster_feature  \\\n",
       "AAACCCAAGCTTGTGT-1                       1                0   \n",
       "AAACCCAAGGCCTGCT-1                       1                0   \n",
       "AAACCCACAAAGGGTC-1                       1                0   \n",
       "AAACCCAGTCCCACGA-1                       1                0   \n",
       "AAACCCATCAGTCATG-1                       1                0   \n",
       "\n",
       "                    negative_hypothesis_probability  \\\n",
       "AAACCCAAGCTTGTGT-1                     2.219113e-17   \n",
       "AAACCCAAGGCCTGCT-1                     4.573743e-12   \n",
       "AAACCCACAAAGGGTC-1                     5.065203e-16   \n",
       "AAACCCAGTCCCACGA-1                     2.993525e-16   \n",
       "AAACCCATCAGTCATG-1                     3.267715e-14   \n",
       "\n",
       "                    singlet_hypothesis_probability  \\\n",
       "AAACCCAAGCTTGTGT-1                             1.0   \n",
       "AAACCCAAGGCCTGCT-1                             1.0   \n",
       "AAACCCACAAAGGGTC-1                             1.0   \n",
       "AAACCCAGTCCCACGA-1                             1.0   \n",
       "AAACCCATCAGTCATG-1                             1.0   \n",
       "\n",
       "                    doublet_hypothesis_probability Classification  log_counts  \n",
       "AAACCCAAGCTTGTGT-1                    1.053405e-10           HTO1    7.646832  \n",
       "AAACCCAAGGCCTGCT-1                    1.351712e-11           HTO1    7.032624  \n",
       "AAACCCACAAAGGGTC-1                    4.369904e-11           HTO4    6.884487  \n",
       "AAACCCAGTCCCACGA-1                    5.321506e-09           HTO1    8.045588  \n",
       "AAACCCATCAGTCATG-1                    5.790054e-10           HTO4    9.087042  "
      ]
     },
     "execution_count": 68,
     "metadata": {},
     "output_type": "execute_result"
    }
   ],
   "source": [
    "hto.obs.head()"
   ]
  },
  {
   "cell_type": "code",
   "execution_count": 79,
   "id": "1fe7ebb1",
   "metadata": {},
   "outputs": [
    {
     "data": {
      "text/plain": [
       "AnnData object with n_obs × n_vars = 7226 × 4\n",
       "    obs: 'most_likely_hypothesis', 'cluster_feature', 'negative_hypothesis_probability', 'singlet_hypothesis_probability', 'doublet_hypothesis_probability', 'Classification', 'log_counts'\n",
       "    var: 'gene_ids', 'feature_types', 'genome'"
      ]
     },
     "execution_count": 79,
     "metadata": {},
     "output_type": "execute_result"
    }
   ],
   "source": [
    "hto"
   ]
  },
  {
   "cell_type": "code",
   "execution_count": 80,
   "id": "54d5a1d0",
   "metadata": {},
   "outputs": [],
   "source": [
    "exp97.obs['most_likely_hypothesis'] = hto.obs['most_likely_hypothesis']\n",
    "exp97.obs['Classification'] = hto.obs['Classification']"
   ]
  },
  {
   "cell_type": "code",
   "execution_count": 83,
   "id": "c2e3b56a",
   "metadata": {},
   "outputs": [
    {
     "name": "stderr",
     "output_type": "stream",
     "text": [
      "/Users/ycheng/opt/anaconda3/lib/python3.7/site-packages/anndata/_core/anndata.py:1228: FutureWarning: The `inplace` parameter in pandas.Categorical.reorder_categories is deprecated and will be removed in a future version. Reordering categories will always return a new Categorical object.\n",
      "  c.reorder_categories(natsorted(c.categories), inplace=True)\n",
      "... storing 'Classification' as categorical\n",
      "/Users/ycheng/opt/anaconda3/lib/python3.7/site-packages/anndata/_core/anndata.py:1228: FutureWarning: The `inplace` parameter in pandas.Categorical.reorder_categories is deprecated and will be removed in a future version. Reordering categories will always return a new Categorical object.\n",
      "  c.reorder_categories(natsorted(c.categories), inplace=True)\n",
      "... storing 'feature_types' as categorical\n",
      "/Users/ycheng/opt/anaconda3/lib/python3.7/site-packages/anndata/_core/anndata.py:1228: FutureWarning: The `inplace` parameter in pandas.Categorical.reorder_categories is deprecated and will be removed in a future version. Reordering categories will always return a new Categorical object.\n",
      "  c.reorder_categories(natsorted(c.categories), inplace=True)\n",
      "... storing 'genome' as categorical\n"
     ]
    }
   ],
   "source": [
    "exp97.write('exp97_solo.h5')"
   ]
  }
 ],
 "metadata": {
  "kernelspec": {
   "display_name": "Python 3 (ipykernel)",
   "language": "python",
   "name": "python3"
  },
  "language_info": {
   "codemirror_mode": {
    "name": "ipython",
    "version": 3
   },
   "file_extension": ".py",
   "mimetype": "text/x-python",
   "name": "python",
   "nbconvert_exporter": "python",
   "pygments_lexer": "ipython3",
   "version": "3.8.12"
  },
  "varInspector": {
   "cols": {
    "lenName": 16,
    "lenType": 16,
    "lenVar": 40
   },
   "kernels_config": {
    "python": {
     "delete_cmd_postfix": "",
     "delete_cmd_prefix": "del ",
     "library": "var_list.py",
     "varRefreshCmd": "print(var_dic_list())"
    },
    "r": {
     "delete_cmd_postfix": ") ",
     "delete_cmd_prefix": "rm(",
     "library": "var_list.r",
     "varRefreshCmd": "cat(var_dic_list()) "
    }
   },
   "types_to_exclude": [
    "module",
    "function",
    "builtin_function_or_method",
    "instance",
    "_Feature"
   ],
   "window_display": false
  }
 },
 "nbformat": 4,
 "nbformat_minor": 5
}
